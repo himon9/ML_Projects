{
 "cells": [
  {
   "cell_type": "code",
   "execution_count": 4,
   "id": "a77e3075",
   "metadata": {},
   "outputs": [],
   "source": [
    "import numpy as np\n",
    "import pandas as pd\n",
    "import matplotlib.pyplot as plt\n",
    "import seaborn as sns\n",
    "from sklearn.model_selection import train_test_split\n",
    "from sklearn.ensemble import RandomForestRegressor\n",
    "from sklearn import metrics\n"
   ]
  },
  {
   "cell_type": "code",
   "execution_count": 5,
   "id": "67c1f9e3",
   "metadata": {},
   "outputs": [],
   "source": [
    "#Data Collection and Processing"
   ]
  },
  {
   "cell_type": "code",
   "execution_count": 9,
   "id": "99f5e042",
   "metadata": {},
   "outputs": [],
   "source": [
    "#Loading the csv data to a Pandas Dataframe\n",
    "gold_data = pd.read_csv('./gld_price_data.csv.xls')"
   ]
  },
  {
   "cell_type": "code",
   "execution_count": 11,
   "id": "71a57629",
   "metadata": {},
   "outputs": [
    {
     "data": {
      "text/html": [
       "<div>\n",
       "<style scoped>\n",
       "    .dataframe tbody tr th:only-of-type {\n",
       "        vertical-align: middle;\n",
       "    }\n",
       "\n",
       "    .dataframe tbody tr th {\n",
       "        vertical-align: top;\n",
       "    }\n",
       "\n",
       "    .dataframe thead th {\n",
       "        text-align: right;\n",
       "    }\n",
       "</style>\n",
       "<table border=\"1\" class=\"dataframe\">\n",
       "  <thead>\n",
       "    <tr style=\"text-align: right;\">\n",
       "      <th></th>\n",
       "      <th>Date</th>\n",
       "      <th>SPX</th>\n",
       "      <th>GLD</th>\n",
       "      <th>USO</th>\n",
       "      <th>SLV</th>\n",
       "      <th>EUR/USD</th>\n",
       "    </tr>\n",
       "  </thead>\n",
       "  <tbody>\n",
       "    <tr>\n",
       "      <th>0</th>\n",
       "      <td>1/2/2008</td>\n",
       "      <td>1447.160034</td>\n",
       "      <td>84.860001</td>\n",
       "      <td>78.470001</td>\n",
       "      <td>15.180</td>\n",
       "      <td>1.471692</td>\n",
       "    </tr>\n",
       "    <tr>\n",
       "      <th>1</th>\n",
       "      <td>1/3/2008</td>\n",
       "      <td>1447.160034</td>\n",
       "      <td>85.570000</td>\n",
       "      <td>78.370003</td>\n",
       "      <td>15.285</td>\n",
       "      <td>1.474491</td>\n",
       "    </tr>\n",
       "    <tr>\n",
       "      <th>2</th>\n",
       "      <td>1/4/2008</td>\n",
       "      <td>1411.630005</td>\n",
       "      <td>85.129997</td>\n",
       "      <td>77.309998</td>\n",
       "      <td>15.167</td>\n",
       "      <td>1.475492</td>\n",
       "    </tr>\n",
       "    <tr>\n",
       "      <th>3</th>\n",
       "      <td>1/7/2008</td>\n",
       "      <td>1416.180054</td>\n",
       "      <td>84.769997</td>\n",
       "      <td>75.500000</td>\n",
       "      <td>15.053</td>\n",
       "      <td>1.468299</td>\n",
       "    </tr>\n",
       "    <tr>\n",
       "      <th>4</th>\n",
       "      <td>1/8/2008</td>\n",
       "      <td>1390.189941</td>\n",
       "      <td>86.779999</td>\n",
       "      <td>76.059998</td>\n",
       "      <td>15.590</td>\n",
       "      <td>1.557099</td>\n",
       "    </tr>\n",
       "  </tbody>\n",
       "</table>\n",
       "</div>"
      ],
      "text/plain": [
       "       Date          SPX        GLD        USO     SLV   EUR/USD\n",
       "0  1/2/2008  1447.160034  84.860001  78.470001  15.180  1.471692\n",
       "1  1/3/2008  1447.160034  85.570000  78.370003  15.285  1.474491\n",
       "2  1/4/2008  1411.630005  85.129997  77.309998  15.167  1.475492\n",
       "3  1/7/2008  1416.180054  84.769997  75.500000  15.053  1.468299\n",
       "4  1/8/2008  1390.189941  86.779999  76.059998  15.590  1.557099"
      ]
     },
     "execution_count": 11,
     "metadata": {},
     "output_type": "execute_result"
    }
   ],
   "source": [
    "#print first 5 rows in the dataframe\n",
    "gold_data.head()"
   ]
  },
  {
   "cell_type": "code",
   "execution_count": 12,
   "id": "abd2b55a",
   "metadata": {},
   "outputs": [
    {
     "data": {
      "text/html": [
       "<div>\n",
       "<style scoped>\n",
       "    .dataframe tbody tr th:only-of-type {\n",
       "        vertical-align: middle;\n",
       "    }\n",
       "\n",
       "    .dataframe tbody tr th {\n",
       "        vertical-align: top;\n",
       "    }\n",
       "\n",
       "    .dataframe thead th {\n",
       "        text-align: right;\n",
       "    }\n",
       "</style>\n",
       "<table border=\"1\" class=\"dataframe\">\n",
       "  <thead>\n",
       "    <tr style=\"text-align: right;\">\n",
       "      <th></th>\n",
       "      <th>Date</th>\n",
       "      <th>SPX</th>\n",
       "      <th>GLD</th>\n",
       "      <th>USO</th>\n",
       "      <th>SLV</th>\n",
       "      <th>EUR/USD</th>\n",
       "    </tr>\n",
       "  </thead>\n",
       "  <tbody>\n",
       "    <tr>\n",
       "      <th>2285</th>\n",
       "      <td>5/8/2018</td>\n",
       "      <td>2671.919922</td>\n",
       "      <td>124.589996</td>\n",
       "      <td>14.0600</td>\n",
       "      <td>15.5100</td>\n",
       "      <td>1.186789</td>\n",
       "    </tr>\n",
       "    <tr>\n",
       "      <th>2286</th>\n",
       "      <td>5/9/2018</td>\n",
       "      <td>2697.790039</td>\n",
       "      <td>124.330002</td>\n",
       "      <td>14.3700</td>\n",
       "      <td>15.5300</td>\n",
       "      <td>1.184722</td>\n",
       "    </tr>\n",
       "    <tr>\n",
       "      <th>2287</th>\n",
       "      <td>5/10/2018</td>\n",
       "      <td>2723.070068</td>\n",
       "      <td>125.180000</td>\n",
       "      <td>14.4100</td>\n",
       "      <td>15.7400</td>\n",
       "      <td>1.191753</td>\n",
       "    </tr>\n",
       "    <tr>\n",
       "      <th>2288</th>\n",
       "      <td>5/14/2018</td>\n",
       "      <td>2730.129883</td>\n",
       "      <td>124.489998</td>\n",
       "      <td>14.3800</td>\n",
       "      <td>15.5600</td>\n",
       "      <td>1.193118</td>\n",
       "    </tr>\n",
       "    <tr>\n",
       "      <th>2289</th>\n",
       "      <td>5/16/2018</td>\n",
       "      <td>2725.780029</td>\n",
       "      <td>122.543800</td>\n",
       "      <td>14.4058</td>\n",
       "      <td>15.4542</td>\n",
       "      <td>1.182033</td>\n",
       "    </tr>\n",
       "  </tbody>\n",
       "</table>\n",
       "</div>"
      ],
      "text/plain": [
       "           Date          SPX         GLD      USO      SLV   EUR/USD\n",
       "2285   5/8/2018  2671.919922  124.589996  14.0600  15.5100  1.186789\n",
       "2286   5/9/2018  2697.790039  124.330002  14.3700  15.5300  1.184722\n",
       "2287  5/10/2018  2723.070068  125.180000  14.4100  15.7400  1.191753\n",
       "2288  5/14/2018  2730.129883  124.489998  14.3800  15.5600  1.193118\n",
       "2289  5/16/2018  2725.780029  122.543800  14.4058  15.4542  1.182033"
      ]
     },
     "execution_count": 12,
     "metadata": {},
     "output_type": "execute_result"
    }
   ],
   "source": [
    "#print last 5 rows of the dataframe\n",
    "gold_data.tail()"
   ]
  },
  {
   "cell_type": "code",
   "execution_count": 14,
   "id": "6a6b5258",
   "metadata": {},
   "outputs": [
    {
     "data": {
      "text/plain": [
       "(2290, 6)"
      ]
     },
     "execution_count": 14,
     "metadata": {},
     "output_type": "execute_result"
    }
   ],
   "source": [
    "#number of rows and columns\n",
    "gold_data.shape"
   ]
  },
  {
   "cell_type": "code",
   "execution_count": 15,
   "id": "aace2e41",
   "metadata": {},
   "outputs": [
    {
     "name": "stdout",
     "output_type": "stream",
     "text": [
      "<class 'pandas.core.frame.DataFrame'>\n",
      "RangeIndex: 2290 entries, 0 to 2289\n",
      "Data columns (total 6 columns):\n",
      " #   Column   Non-Null Count  Dtype  \n",
      "---  ------   --------------  -----  \n",
      " 0   Date     2290 non-null   object \n",
      " 1   SPX      2290 non-null   float64\n",
      " 2   GLD      2290 non-null   float64\n",
      " 3   USO      2290 non-null   float64\n",
      " 4   SLV      2290 non-null   float64\n",
      " 5   EUR/USD  2290 non-null   float64\n",
      "dtypes: float64(5), object(1)\n",
      "memory usage: 107.5+ KB\n"
     ]
    }
   ],
   "source": [
    "#getting some basic information about the data\n",
    "gold_data.info()"
   ]
  },
  {
   "cell_type": "code",
   "execution_count": 16,
   "id": "f2a450e6",
   "metadata": {},
   "outputs": [
    {
     "data": {
      "text/plain": [
       "Date       0\n",
       "SPX        0\n",
       "GLD        0\n",
       "USO        0\n",
       "SLV        0\n",
       "EUR/USD    0\n",
       "dtype: int64"
      ]
     },
     "execution_count": 16,
     "metadata": {},
     "output_type": "execute_result"
    }
   ],
   "source": [
    "#Checking the number of missing values\n",
    "gold_data.isnull().sum()"
   ]
  },
  {
   "cell_type": "code",
   "execution_count": 18,
   "id": "a453b34e",
   "metadata": {},
   "outputs": [
    {
     "data": {
      "text/html": [
       "<div>\n",
       "<style scoped>\n",
       "    .dataframe tbody tr th:only-of-type {\n",
       "        vertical-align: middle;\n",
       "    }\n",
       "\n",
       "    .dataframe tbody tr th {\n",
       "        vertical-align: top;\n",
       "    }\n",
       "\n",
       "    .dataframe thead th {\n",
       "        text-align: right;\n",
       "    }\n",
       "</style>\n",
       "<table border=\"1\" class=\"dataframe\">\n",
       "  <thead>\n",
       "    <tr style=\"text-align: right;\">\n",
       "      <th></th>\n",
       "      <th>SPX</th>\n",
       "      <th>GLD</th>\n",
       "      <th>USO</th>\n",
       "      <th>SLV</th>\n",
       "      <th>EUR/USD</th>\n",
       "    </tr>\n",
       "  </thead>\n",
       "  <tbody>\n",
       "    <tr>\n",
       "      <th>count</th>\n",
       "      <td>2290.000000</td>\n",
       "      <td>2290.000000</td>\n",
       "      <td>2290.000000</td>\n",
       "      <td>2290.000000</td>\n",
       "      <td>2290.000000</td>\n",
       "    </tr>\n",
       "    <tr>\n",
       "      <th>mean</th>\n",
       "      <td>1654.315776</td>\n",
       "      <td>122.732875</td>\n",
       "      <td>31.842221</td>\n",
       "      <td>20.084997</td>\n",
       "      <td>1.283653</td>\n",
       "    </tr>\n",
       "    <tr>\n",
       "      <th>std</th>\n",
       "      <td>519.111540</td>\n",
       "      <td>23.283346</td>\n",
       "      <td>19.523517</td>\n",
       "      <td>7.092566</td>\n",
       "      <td>0.131547</td>\n",
       "    </tr>\n",
       "    <tr>\n",
       "      <th>min</th>\n",
       "      <td>676.530029</td>\n",
       "      <td>70.000000</td>\n",
       "      <td>7.960000</td>\n",
       "      <td>8.850000</td>\n",
       "      <td>1.039047</td>\n",
       "    </tr>\n",
       "    <tr>\n",
       "      <th>25%</th>\n",
       "      <td>1239.874969</td>\n",
       "      <td>109.725000</td>\n",
       "      <td>14.380000</td>\n",
       "      <td>15.570000</td>\n",
       "      <td>1.171313</td>\n",
       "    </tr>\n",
       "    <tr>\n",
       "      <th>50%</th>\n",
       "      <td>1551.434998</td>\n",
       "      <td>120.580002</td>\n",
       "      <td>33.869999</td>\n",
       "      <td>17.268500</td>\n",
       "      <td>1.303297</td>\n",
       "    </tr>\n",
       "    <tr>\n",
       "      <th>75%</th>\n",
       "      <td>2073.010070</td>\n",
       "      <td>132.840004</td>\n",
       "      <td>37.827501</td>\n",
       "      <td>22.882500</td>\n",
       "      <td>1.369971</td>\n",
       "    </tr>\n",
       "    <tr>\n",
       "      <th>max</th>\n",
       "      <td>2872.870117</td>\n",
       "      <td>184.589996</td>\n",
       "      <td>117.480003</td>\n",
       "      <td>47.259998</td>\n",
       "      <td>1.598798</td>\n",
       "    </tr>\n",
       "  </tbody>\n",
       "</table>\n",
       "</div>"
      ],
      "text/plain": [
       "               SPX          GLD          USO          SLV      EUR/USD\n",
       "count  2290.000000  2290.000000  2290.000000  2290.000000  2290.000000\n",
       "mean   1654.315776   122.732875    31.842221    20.084997     1.283653\n",
       "std     519.111540    23.283346    19.523517     7.092566     0.131547\n",
       "min     676.530029    70.000000     7.960000     8.850000     1.039047\n",
       "25%    1239.874969   109.725000    14.380000    15.570000     1.171313\n",
       "50%    1551.434998   120.580002    33.869999    17.268500     1.303297\n",
       "75%    2073.010070   132.840004    37.827501    22.882500     1.369971\n",
       "max    2872.870117   184.589996   117.480003    47.259998     1.598798"
      ]
     },
     "execution_count": 18,
     "metadata": {},
     "output_type": "execute_result"
    }
   ],
   "source": [
    "#getting the statistical measures of the data\n",
    "gold_data.describe()"
   ]
  },
  {
   "cell_type": "code",
   "execution_count": 19,
   "id": "6fee16e3",
   "metadata": {},
   "outputs": [],
   "source": [
    "# Correlation:\n",
    "#     1. Positive Correlation:- The variables are directly proportional\n",
    "#     2. Negative Correlation:- The variables are inversely proportional"
   ]
  },
  {
   "cell_type": "code",
   "execution_count": 22,
   "id": "db9aa9e7",
   "metadata": {},
   "outputs": [],
   "source": [
    "correlation = gold_data.corr()"
   ]
  },
  {
   "cell_type": "code",
   "execution_count": 26,
   "id": "00594227",
   "metadata": {},
   "outputs": [
    {
     "data": {
      "text/plain": [
       "<AxesSubplot:>"
      ]
     },
     "execution_count": 26,
     "metadata": {},
     "output_type": "execute_result"
    },
    {
     "data": {
      "image/png": "[encoded data removed]",
      "text/plain": [
       "<Figure size 576x576 with 2 Axes>"
      ]
     },
     "metadata": {
      "needs_background": "light"
     },
     "output_type": "display_data"
    }
   ],
   "source": [
    "# Constructing a heatmap to understand the correlation\n",
    "plt.figure(figsize=(8,8))\n",
    "sns.heatmap(correlation, cbar=True, square=True, fmt='.1f', annot=True, annot_kws={'size':8}, cmap='Blues')"
   ]
  },
  {
   "cell_type": "code",
   "execution_count": 28,
   "id": "7b2166cc",
   "metadata": {},
   "outputs": [
    {
     "name": "stdout",
     "output_type": "stream",
     "text": [
      "SPX        0.049345\n",
      "GLD        1.000000\n",
      "USO       -0.186360\n",
      "SLV        0.866632\n",
      "EUR/USD   -0.024375\n",
      "Name: GLD, dtype: float64\n"
     ]
    }
   ],
   "source": [
    "# correlation values of GLD\n",
    "print(correlation['GLD'])"
   ]
  },
  {
   "cell_type": "code",
   "execution_count": 36,
   "id": "02a8d95a",
   "metadata": {},
   "outputs": [
    {
     "name": "stderr",
     "output_type": "stream",
     "text": [
      "/Users/himon9/opt/anaconda3/lib/python3.9/site-packages/seaborn/distributions.py:2619: FutureWarning: `distplot` is a deprecated function and will be removed in a future version. Please adapt your code to use either `displot` (a figure-level function with similar flexibility) or `histplot` (an axes-level function for histograms).\n",
      "  warnings.warn(msg, FutureWarning)\n"
     ]
    },
    {
     "data": {
      "text/plain": [
       "<AxesSubplot:xlabel='GLD', ylabel='Density'>"
      ]
     },
     "execution_count": 36,
     "metadata": {},
     "output_type": "execute_result"
    },
    {
     "data": {
      "image/png": "[encoded data removed]",
      "text/plain": [
       "<Figure size 432x288 with 1 Axes>"
      ]
     },
     "metadata": {
      "needs_background": "light"
     },
     "output_type": "display_data"
    }
   ],
   "source": [
    "# check the distribution of the GLD Price\n",
    "sns.distplot(gold_data['GLD'],color='green')"
   ]
  },
  {
   "cell_type": "code",
   "execution_count": 31,
   "id": "8c27b760",
   "metadata": {},
   "outputs": [],
   "source": [
    "# Splitting the Features and Target\n",
    "X = gold_data.drop(['Date','GLD'],axis=1)\n",
    "Y = gold_data['GLD']"
   ]
  },
  {
   "cell_type": "code",
   "execution_count": 32,
   "id": "00b2c5b4",
   "metadata": {},
   "outputs": [
    {
     "name": "stdout",
     "output_type": "stream",
     "text": [
      "              SPX        USO      SLV   EUR/USD\n",
      "0     1447.160034  78.470001  15.1800  1.471692\n",
      "1     1447.160034  78.370003  15.2850  1.474491\n",
      "2     1411.630005  77.309998  15.1670  1.475492\n",
      "3     1416.180054  75.500000  15.0530  1.468299\n",
      "4     1390.189941  76.059998  15.5900  1.557099\n",
      "...           ...        ...      ...       ...\n",
      "2285  2671.919922  14.060000  15.5100  1.186789\n",
      "2286  2697.790039  14.370000  15.5300  1.184722\n",
      "2287  2723.070068  14.410000  15.7400  1.191753\n",
      "2288  2730.129883  14.380000  15.5600  1.193118\n",
      "2289  2725.780029  14.405800  15.4542  1.182033\n",
      "\n",
      "[2290 rows x 4 columns]\n"
     ]
    }
   ],
   "source": [
    "print(X)"
   ]
  },
  {
   "cell_type": "code",
   "execution_count": 39,
   "id": "3c480427",
   "metadata": {},
   "outputs": [],
   "source": [
    "# Splitting into Training data and Test Data\n",
    "X_train, X_test, Y_train, Y_test = train_test_split(X,Y,test_size=0.2, random_state=2)"
   ]
  },
  {
   "cell_type": "code",
   "execution_count": 42,
   "id": "761041ab",
   "metadata": {},
   "outputs": [],
   "source": [
    "# Model Training \n",
    "# Random Forest Regressor\n",
    "\n",
    "regressor = RandomForestRegressor(n_estimators=100)"
   ]
  },
  {
   "cell_type": "code",
   "execution_count": 43,
   "id": "824a3a1c",
   "metadata": {},
   "outputs": [
    {
     "data": {
      "text/plain": [
       "RandomForestRegressor()"
      ]
     },
     "execution_count": 43,
     "metadata": {},
     "output_type": "execute_result"
    }
   ],
   "source": [
    "# Training the Model\n",
    "regressor.fit(X_train,Y_train)"
   ]
  },
  {
   "cell_type": "code",
   "execution_count": 44,
   "id": "45f7ab89",
   "metadata": {},
   "outputs": [],
   "source": [
    "# Model Evaluation\n",
    "# Prediction on Test Data\n",
    "\n",
    "test_data_prediction = regressor.predict(X_test)"
   ]
  },
  {
   "cell_type": "code",
   "execution_count": 45,
   "id": "5b697f5a",
   "metadata": {},
   "outputs": [
    {
     "name": "stdout",
     "output_type": "stream",
     "text": [
      "[168.35119892  82.10339984 116.00249988 127.60770116 120.66750153\n",
      " 154.50379697 150.49919899 126.02520003 117.52269873 126.18760007\n",
      " 116.61340105 171.13940108 141.26909794 167.79889847 115.22730014\n",
      " 117.6715006  140.48470292 169.910801   159.87600278 156.5346993\n",
      " 155.23740042 125.20350042 175.96119973 157.14040392 125.21800054\n",
      "  93.73729952  76.16220065 120.35369979 119.12659992 167.28669981\n",
      "  88.11200066 125.40680034  91.29850076 117.68510005 121.20469869\n",
      " 136.88280155 115.17360129 115.07970092 149.98829913 107.38830055\n",
      " 104.78690216  87.29279788 126.38100067 117.90810002 153.12139928\n",
      " 119.66270021 108.52149957 108.221498    93.28100065 127.08589775\n",
      "  74.92150054 113.74099949 121.14720009 111.19379951 118.83689893\n",
      " 120.81029944 157.79819973 170.06640078 147.08479673  85.92229876\n",
      "  94.2405003   86.89849889  90.6264003  118.86490085 126.45440084\n",
      " 127.67589991 169.02970022 122.24989937 117.50659897  98.39570033\n",
      " 168.4861011  143.42209841 131.9391024  121.0479023  120.79269956\n",
      " 119.80650046 114.37930149 118.1102004  107.14140056 127.91880117\n",
      " 114.03719945 106.94030012 116.64230058 119.5373991   89.03490054\n",
      "  88.30399905 147.52100294 127.08040014 113.24710047 109.75969862\n",
      " 108.1801992   77.34139915 169.62560179 114.09309903 121.63289894\n",
      " 127.92070189 154.86639816  91.67379908 137.4380012  159.50600334\n",
      " 125.6690005  125.48540051 130.6209017  114.57930138 119.97390016\n",
      "  92.09589998 110.5406987  168.07099942 158.13999845 114.31789966\n",
      " 106.74920095  79.14839979 113.35340055 125.77950067 107.1611991\n",
      " 119.1759008  155.9519031  159.34609852 120.3099999  133.79580298\n",
      " 101.28390041 117.50729803 119.33830028 113.06610102 102.76899942\n",
      " 160.42239788  98.71800045 149.16999837 125.52310094 169.17319919\n",
      " 125.78289858 127.3084977  127.31050151 113.69559934 113.38010066\n",
      " 123.55289922 102.12569889  89.36689965 124.89519957 101.84689947\n",
      " 107.15059917 113.47980073 117.37280074  99.00029929 121.62610045\n",
      " 163.37249944  87.3964986  106.69909959 117.08620078 127.73230133\n",
      " 124.08600068  80.61509934 120.4743007  157.58099761  87.92499965\n",
      " 110.30759946 119.02399924 172.29769875 102.94089914 105.56670047\n",
      " 122.40040013 158.57769725  87.39019844  93.27360027 112.92730037\n",
      " 177.41239934 114.53520003 119.34860013  94.74470109 125.79290019\n",
      " 165.58350112 114.71810082 116.50780137  88.3844992  148.88340022\n",
      " 120.38449967  89.49850002 111.93080004 117.18650046 118.73580121\n",
      "  87.73609906  94.14480002 116.93760016 118.41980181 120.27850093\n",
      " 126.8133981  121.89379961 151.09140026 165.5316002  118.58069964\n",
      " 120.39710111 149.53920053 118.67679904 172.36049869 105.35989972\n",
      " 104.94960105 149.68960063 113.67000094 124.87970109 147.44409978\n",
      " 119.78110119 115.45490081 112.52969983 113.62350192 142.79040037\n",
      " 118.00539747 102.89520026 115.73120128 104.07890186  98.69450049\n",
      " 117.54850083  90.72450007  91.43080015 153.59749852 102.69319981\n",
      " 155.42190074 114.32840173 138.46990174  90.10929795 115.52319911\n",
      " 114.57710034 122.68189997 121.83630009 165.57260186  92.95159948\n",
      " 135.06000091 121.38819924 120.69300017 104.65680023 141.08140323\n",
      " 121.96659909 116.54950043 113.63520077 127.06589754 122.71169939\n",
      " 125.72459965 121.24300033  86.87849908 132.58250136 144.89080197\n",
      "  92.68239951 159.46019952 159.59070182 126.31939903 165.02529998\n",
      " 108.72579919 109.63290056 103.72219822  94.2922005  127.79380232\n",
      " 107.22530059 162.1963998  121.65820049 132.13140078 130.74140188\n",
      " 159.87409959  90.05679838 175.46850212 127.6016004  126.87219838\n",
      "  86.60999945 124.58409888 150.86169719  89.61280024 106.9990995\n",
      " 108.91919988  84.08469906 135.64789955 154.78460251 138.21420352\n",
      "  74.00610003 152.19430119 126.25290053 126.75499979 127.45469882\n",
      " 108.64429944 156.1378005  114.42870102 116.97210148 125.28099942\n",
      " 154.14670141 121.51569987 156.3474991   92.91620047 125.45120102\n",
      " 125.92660058  87.7661004   92.00049909 126.31079915 128.30000352\n",
      " 113.16980074 117.50469768 120.91040007 127.15619763 119.69720078\n",
      " 136.34100117  93.91879918 119.96530028 112.99600084  94.30829938\n",
      " 108.85580034  86.39389898 108.90499929  89.55999986  92.21420029\n",
      " 131.65340303 162.27700142  89.19690011 119.55180102 133.32090161\n",
      " 123.90950042 128.71470213 101.94089841  88.91389892 131.63879994\n",
      " 119.81370033 108.59779982 165.99790087 115.25110065  86.63459895\n",
      " 119.02410066  91.12079944 162.02409995 116.59780045 121.78029997\n",
      " 160.1671978  120.16619932 112.7509997  108.45029884 126.78279969\n",
      "  75.91970041 102.97339989 127.78330253 121.79129918  92.64090012\n",
      " 131.94950083 118.11900129 115.76469967 154.59820244 158.77050082\n",
      " 110.02939954 153.77159816 119.19320091 160.28050066 118.77300037\n",
      " 156.82749963 115.1132993  116.73240041 149.52119951 114.78040057\n",
      " 125.86979863 166.09579957 117.86740013 125.04899964 153.43020373\n",
      " 153.76240134 132.27429968 114.78540009 121.17470194 125.14360047\n",
      "  89.69810081 123.24639986 154.39910154 111.81070031 106.51309985\n",
      " 162.07420094 118.48619989 165.66980111 134.08600088 114.87709959\n",
      " 153.03749855 168.73489961 114.70760015 113.98240113 158.35230014\n",
      "  85.35489863 127.14690031 128.00540066 128.91559949 124.22290068\n",
      " 123.85940056  90.58340047 153.15480022  97.19609957 138.34419957\n",
      "  89.10409923 106.97770001 115.10110039 112.91650072 123.82239926\n",
      "  91.44389879 125.32550116 162.32779922 119.82279894 165.40510132\n",
      " 126.88639796 112.44530027 127.63539955  95.05309926  90.81389974\n",
      " 103.38679939 120.79789977  83.24049954 126.37140002 160.65190488\n",
      " 117.36200092 118.31099995 119.84999984 122.67209928 120.05490132\n",
      " 121.40910003 118.23370066 107.14309985 148.34689931 126.29159843\n",
      " 115.77390097  74.2288002  127.78240094 155.00790083 122.2197998\n",
      " 125.58270045  88.80529999 103.38989888 124.60280048 120.21750024\n",
      "  73.41380087 151.60470047 121.07040008 104.7394002   86.57439781\n",
      " 115.02649891 172.21519854 120.01440032 159.37739763 113.15999982\n",
      " 121.26240027 118.33240152  96.06829994 118.54930075 125.83350029\n",
      " 118.37049979  96.58430127 154.18600134 122.22460011 148.01139938\n",
      " 159.21880223 113.58230024 122.42809949 147.87719727 127.18340016\n",
      " 165.84440082 135.40420019 120.00939952 167.57609858 108.4640992\n",
      " 121.80669856 139.77910117 107.01659903]\n"
     ]
    }
   ],
   "source": [
    "print(test_data_prediction)"
   ]
  },
  {
   "cell_type": "code",
   "execution_count": 46,
   "id": "8c87d448",
   "metadata": {},
   "outputs": [
    {
     "name": "stdout",
     "output_type": "stream",
     "text": [
      "R squared error :  0.9881558097622649\n"
     ]
    }
   ],
   "source": [
    "# R squared error \n",
    "error_score = metrics.r2_score(Y_test, test_data_prediction)\n",
    "print(\"R squared error : \", error_score)"
   ]
  },
  {
   "cell_type": "code",
   "execution_count": 61,
   "id": "28e89c47",
   "metadata": {},
   "outputs": [
    {
     "data": {
      "image/png": "[encoded data removed]",
      "text/plain": [
       "<Figure size 432x288 with 1 Axes>"
      ]
     },
     "metadata": {
      "needs_background": "light"
     },
     "output_type": "display_data"
    }
   ],
   "source": [
    "# Compare the Acutal Values and Predicted Values in a Plot\n",
    "\n",
    "Y_test = list(Y_test)\n",
    "plt.plot(Y_test, color='blue', label='Actual Value')\n",
    "plt.plot(test_data_prediction, color='green', label='Predicted Value')\n",
    "plt.title('Actual Price vs Predicted Price')\n",
    "plt.xlabel('Nubmer of values')\n",
    "plt.ylabel('GLD Price')\n",
    "plt.legend()\n",
    "plt.show()"
   ]
  },
  {
   "cell_type": "code",
   "execution_count": null,
   "id": "3a9a8487",
   "metadata": {},
   "outputs": [],
   "source": []
  }
 ],
 "metadata": {
  "kernelspec": {
   "display_name": "Python 3 (ipykernel)",
   "language": "python",
   "name": "python3"
  },
  "language_info": {
   "codemirror_mode": {
    "name": "ipython",
    "version": 3
   },
   "file_extension": ".py",
   "mimetype": "text/x-python",
   "name": "python",
   "nbconvert_exporter": "python",
   "pygments_lexer": "ipython3",
   "version": "3.9.7"
  }
 },
 "nbformat": 4,
 "nbformat_minor": 5
}
